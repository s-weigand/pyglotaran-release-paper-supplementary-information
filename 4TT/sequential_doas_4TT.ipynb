{
 "cells": [
  {
   "attachments": {},
   "cell_type": "markdown",
   "id": "14406728",
   "metadata": {
    "tags": []
   },
   "source": [
    "# Case study - 4TT - introducing the DOAS and the IRFAS\n"
   ]
  },
  {
   "attachments": {},
   "cell_type": "markdown",
   "id": "7dfc7b1f",
   "metadata": {
    "tags": []
   },
   "source": [
    "Recently, it has been demonstrated that coherent vibrational modes promote the ultrafast internal conversion and intersystem crossing in thiobases. The global and target analysis of 4-thiothymidine (4TT) in Phosphate-Buffered Saline (PBS) has been described in\n",
    "Teles-Ferreira DC, van Stokkum IHM, Conti I, Ganzer L, Manzoni C, Garavelli M, Cerullo G, Nenov A, Borrego-Varillas R, de Paula AM (2022) Coherent vibrational modes promote the ultrafast internal conversion and intersystem crossing in thiobases. Physical Chemistry Chemical Physics 24 (36):21750-21758. doi:10.1039/D2CP02073D\n"
   ]
  },
  {
   "attachments": {},
   "cell_type": "markdown",
   "id": "608df0d8",
   "metadata": {
    "tags": []
   },
   "source": [
    "![figure4TT](./4TT.jpg)\n",
    "\n",
    "The structure of 4TT (inset) with its normalized absorption spectrum (black curve), the normalized pump pulse spectrum (red curve), and normalized photoluminescence spectrum (blue curve is the fit and blue dots are the data) obtained pumping the sample at 330 nm. Figure adopted from Teles-Ferreira et al. (2022)\n"
   ]
  },
  {
   "attachments": {},
   "cell_type": "markdown",
   "id": "06820264",
   "metadata": {
    "tags": []
   },
   "source": [
    "## Define and inspect data\n"
   ]
  },
  {
   "cell_type": "code",
   "execution_count": null,
   "id": "edacb9ae",
   "metadata": {
    "tags": []
   },
   "outputs": [],
   "source": [
    "from pyglotaran_extras import plot_data_overview\n",
    "\n",
    "experiment_data = \"experiment_data/4TT_PBS.ascii\"\n",
    "\n",
    "plot_data_overview(experiment_data, linlog=True, linthresh=1);"
   ]
  },
  {
   "cell_type": "markdown",
   "id": "a61f57c1",
   "metadata": {
    "tags": []
   },
   "source": [
    "# Create a project and import the data"
   ]
  },
  {
   "cell_type": "code",
   "execution_count": null,
   "id": "387d6ea2",
   "metadata": {
    "tags": []
   },
   "outputs": [],
   "source": [
    "from glotaran.project import Project\n",
    "\n",
    "project = Project.open(\"\")\n",
    "# project.import_data(experiment_data, dataset_name=\"4TT\")"
   ]
  },
  {
   "cell_type": "code",
   "execution_count": null,
   "id": "0fcf823c",
   "metadata": {},
   "outputs": [],
   "source": [
    "result = project.load_latest_result(\"sequential\")"
   ]
  },
  {
   "attachments": {},
   "cell_type": "markdown",
   "id": "64164546",
   "metadata": {
    "tags": []
   },
   "source": [
    "## Model and parameter definitions\n"
   ]
  },
  {
   "cell_type": "code",
   "execution_count": null,
   "id": "7b14b7ec",
   "metadata": {
    "tags": []
   },
   "outputs": [],
   "source": [
    "project.show_model_definition(\"sequential\")"
   ]
  },
  {
   "cell_type": "code",
   "execution_count": null,
   "id": "e6eb359f",
   "metadata": {
    "tags": []
   },
   "outputs": [],
   "source": [
    "project.show_parameters_definition(\"sequential\")"
   ]
  },
  {
   "attachments": {},
   "cell_type": "markdown",
   "id": "58a0a8c4",
   "metadata": {
    "tags": []
   },
   "source": [
    "# Optimization\n"
   ]
  },
  {
   "cell_type": "code",
   "execution_count": null,
   "id": "e0e94505",
   "metadata": {
    "tags": []
   },
   "outputs": [],
   "source": [
    "result = project.optimize(\n",
    "    model_name=\"sequential\",\n",
    "    parameters_name=\"sequential\",\n",
    "    maximum_number_function_evaluations=17,\n",
    ")"
   ]
  },
  {
   "attachments": {},
   "cell_type": "markdown",
   "id": "1a9e41ae",
   "metadata": {
    "tags": []
   },
   "source": [
    "## Inspect fit quality\n"
   ]
  },
  {
   "cell_type": "code",
   "execution_count": null,
   "id": "b1b45371",
   "metadata": {
    "tags": []
   },
   "outputs": [],
   "source": [
    "result"
   ]
  },
  {
   "cell_type": "code",
   "execution_count": null,
   "id": "2abd640f",
   "metadata": {
    "tags": []
   },
   "outputs": [],
   "source": [
    "result.optimized_parameters"
   ]
  },
  {
   "cell_type": "code",
   "execution_count": null,
   "id": "97c26b39",
   "metadata": {
    "tags": []
   },
   "outputs": [],
   "source": [
    "result.data[\"4TT\"].lifetime_decay"
   ]
  },
  {
   "attachments": {},
   "cell_type": "markdown",
   "id": "9de04b19",
   "metadata": {},
   "source": [
    "## Populations and SADS estimated with the sequential scheme"
   ]
  },
  {
   "cell_type": "code",
   "execution_count": null,
   "id": "e0442a65",
   "metadata": {
    "tags": []
   },
   "outputs": [],
   "source": [
    "import matplotlib.pyplot as plt\n",
    "from pyglotaran_extras.plotting.plot_concentrations import plot_concentrations\n",
    "from pyglotaran_extras.plotting.plot_spectra import plot_sas\n",
    "\n",
    "\n",
    "def plot_concentration_and_spectra(result_dataset):\n",
    "    # fig, axes = plt.subplots(1, 2, figsize=(18, 7))\n",
    "    fig, axes = plt.subplots(1, 2, figsize=(15, 4))\n",
    "    plot_concentrations(result_dataset, axes[0], center_λ=0, linlog=True)\n",
    "    plot_sas(result_dataset, axes[1])\n",
    "    return fig, axes\n",
    "\n",
    "\n",
    "fig, axes = plot_concentration_and_spectra(result.data[\"4TT\"])\n",
    "axes[0].set_xlabel(\"Time (ps)\")\n",
    "axes[0].set_ylabel(\"\")\n",
    "axes[0].axhline(0, color=\"k\", linewidth=1)\n",
    "axes[0].annotate(\"A\", xy=(-0.1, 1), xycoords=\"axes fraction\", fontsize=16)\n",
    "axes[1].set_xlabel(\"Wavelength (nm)\")\n",
    "axes[1].set_ylabel(\"SADS (mOD)\")\n",
    "axes[1].set_title(\"SADS\")\n",
    "axes[1].axhline(0, color=\"k\", linewidth=1)\n",
    "axes[1].annotate(\"B\", xy=(-0.1, 1), xycoords=\"axes fraction\", fontsize=16)"
   ]
  },
  {
   "attachments": {},
   "cell_type": "markdown",
   "id": "0f2c918d",
   "metadata": {
    "tags": []
   },
   "source": [
    "## Plot fitted traces\n"
   ]
  },
  {
   "cell_type": "code",
   "execution_count": null,
   "id": "1139ec2a",
   "metadata": {
    "tags": []
   },
   "outputs": [],
   "source": [
    "from pyglotaran_extras.plotting.plot_traces import plot_fitted_traces\n",
    "from pyglotaran_extras.plotting.plot_traces import select_plot_wavelengths\n",
    "from pyglotaran_extras.plotting.style import PlotStyle\n",
    "\n",
    "wavelengths = select_plot_wavelengths(\n",
    "    result.data[\"4TT\"], equidistant_wavelengths=False, axes_shape=(4, 3)\n",
    ")\n",
    "fig3tr, axes = plot_fitted_traces(\n",
    "    result,\n",
    "    wavelengths,\n",
    "    axes_shape=(4, 3),\n",
    "    linlog=True,\n",
    "    linthresh=1,\n",
    "    cycler=PlotStyle().data_cycler_solid_dashed,\n",
    ")"
   ]
  },
  {
   "cell_type": "code",
   "execution_count": null,
   "id": "e2f3e903",
   "metadata": {},
   "outputs": [],
   "source": [
    "from cycler import cycler\n",
    "\n",
    "wavelengths = [406, 445, 510, 601]\n",
    "fig3tr, axes = plot_fitted_traces(\n",
    "    result,\n",
    "    wavelengths,\n",
    "    axes_shape=(2, 2),\n",
    "    linlog=True,\n",
    "    linthresh=1,\n",
    "    cycler=cycler(color=[\"r\", \"k\"]),  # change plot colors\n",
    "    # figsize=(10, 5),\n",
    "    figsize=(8, 4),\n",
    ")\n",
    "\n",
    "# Add thin line at zero to all plots\n",
    "for ax in axes.flatten():\n",
    "    ax.axhline(0, color=\"k\", linewidth=1)\n",
    "    ax.set_xlabel(\"Time (ps)\")\n",
    "    ax.set_ylabel(\"\")"
   ]
  },
  {
   "cell_type": "code",
   "execution_count": null,
   "id": "e885c30c",
   "metadata": {
    "tags": []
   },
   "outputs": [],
   "source": [
    "wavelengths = [406, 601]\n",
    "fig3tr, axes = plot_fitted_traces(\n",
    "    result,\n",
    "    wavelengths,\n",
    "    axes_shape=(1, 2),\n",
    "    linlog=True,\n",
    "    linthresh=1,\n",
    "    cycler=cycler(color=[\"r\", \"k\"]),  # change plot colors\n",
    "    # figsize=(10, 5),\n",
    "    figsize=(8, 3),\n",
    ")\n",
    "\n",
    "# Add thin line at zero to all plots\n",
    "for ax in axes.flatten():\n",
    "    ax.axhline(0, color=\"k\", linewidth=1)\n",
    "    ax.set_xlabel(\"Time (ps)\")\n",
    "    ax.set_ylabel(\"\")"
   ]
  },
  {
   "attachments": {},
   "cell_type": "markdown",
   "id": "7a410b2e",
   "metadata": {
    "tags": []
   },
   "source": [
    "## Overview\n"
   ]
  },
  {
   "cell_type": "code",
   "execution_count": null,
   "id": "8be30fd6",
   "metadata": {
    "tags": []
   },
   "outputs": [],
   "source": [
    "from pyglotaran_extras import plot_overview\n",
    "\n",
    "fig, axes = plot_overview(\n",
    "    result, linlog=True, linthresh=1, figure_only=False, nr_of_residual_svd_vectors=1\n",
    ")\n",
    "\n",
    "# Add thin line at zero to SAS and DAS plots\n",
    "for ax in axes[0:2, 1:3].flatten():\n",
    "    ax.axhline(0, color=\"k\", linewidth=1)"
   ]
  },
  {
   "attachments": {},
   "cell_type": "markdown",
   "id": "a72ee569",
   "metadata": {},
   "source": [
    "## Overview of the estimated DOAS and phases of the uncorrected data"
   ]
  },
  {
   "cell_type": "code",
   "execution_count": null,
   "id": "a2cc0ce8",
   "metadata": {
    "tags": []
   },
   "outputs": [],
   "source": [
    "from pyglotaran_extras import plot_doas\n",
    "\n",
    "fig, axes = plot_doas(\n",
    "    result,\n",
    "    damped_oscillation=[\"osc1\", \"osc2\", \"osc3\"],\n",
    "    time_range=(-0.05, 0.3),\n",
    "    spectral=550,\n",
    "    figsize=(15, 4),\n",
    "    # oscillation_type=\"sin\",\n",
    "    # normalize=False,\n",
    ")\n",
    "\n",
    "# for vline_pos in [412,450]:\n",
    "#     axes[1].axvline(vline_pos, color=\"k\", linewidth=1)\n",
    "#     axes[2].axvline(vline_pos, color=\"k\", linewidth=1)\n",
    "axes[0].set_xlabel(\"Time (ps)\")\n",
    "axes[0].axhline(0, color=\"k\", linewidth=1)\n",
    "axes[1].set_xlabel(\"Wavelength (nm)\")\n",
    "axes[2].set_xlabel(\"Wavelength (nm)\")\n",
    "axes[1].set_ylabel(\"\")\n",
    "axes[1].set_title(\"DOAS\")\n",
    "axes[0].annotate(\"A\", xy=(0.01, 0.89), xycoords=\"axes fraction\", fontsize=16)\n",
    "axes[1].annotate(\"B\", xy=(0.01, 0.89), xycoords=\"axes fraction\", fontsize=16)\n",
    "axes[2].annotate(\"C\", xy=(0.01, 0.89), xycoords=\"axes fraction\", fontsize=16)"
   ]
  },
  {
   "attachments": {},
   "cell_type": "markdown",
   "id": "e1fd63ee",
   "metadata": {},
   "source": [
    "## Plot coherent artifact\n"
   ]
  },
  {
   "cell_type": "code",
   "execution_count": null,
   "id": "2f29731c",
   "metadata": {
    "tags": []
   },
   "outputs": [],
   "source": [
    "from pyglotaran_extras import plot_coherent_artifact\n",
    "\n",
    "irfas_plot_wavelength = 550\n",
    "\n",
    "fig, axes = plot_coherent_artifact(\n",
    "    result.data[\"4TT\"], time_range=(-0.1, 0.1), spectral=irfas_plot_wavelength, figsize=(10, 2.5)\n",
    ")\n",
    "axes[0].set_xlabel(\"Time (ps)\")\n",
    "axes[0].get_legend().remove()\n",
    "axes[1].set_xlabel(\"Wavelength (nm)\")\n",
    "axes[0].set_ylabel(\"\")\n",
    "axes[0].annotate(\"A\", xy=(0.01, 0.9), xycoords=\"axes fraction\", fontsize=16)\n",
    "axes[1].annotate(\"B\", xy=(0.01, 0.9), xycoords=\"axes fraction\", fontsize=16)"
   ]
  },
  {
   "attachments": {},
   "cell_type": "markdown",
   "id": "c53555db",
   "metadata": {},
   "source": [
    "## Residual analysis of the uncorrected data"
   ]
  },
  {
   "cell_type": "code",
   "execution_count": null,
   "id": "c97bbe63",
   "metadata": {
    "tags": []
   },
   "outputs": [],
   "source": [
    "import matplotlib.pyplot as plt\n",
    "from cycler import cycler\n",
    "from matplotlib.colors import LinearSegmentedColormap\n",
    "from pyglotaran_extras.plotting.plot_residual import plot_residual\n",
    "from pyglotaran_extras.plotting.plot_svd import plot_lsv_residual\n",
    "from pyglotaran_extras.plotting.plot_svd import plot_rsv_residual\n",
    "\n",
    "plt.style.use(\"dark_background\")\n",
    "for param in [\"text.color\", \"axes.labelcolor\", \"xtick.color\", \"ytick.color\"]:\n",
    "    plt.rcParams[param] = \"0.9\"  # very light grey\n",
    "for param in [\"figure.facecolor\", \"axes.facecolor\", \"savefig.facecolor\"]:\n",
    "    plt.rcParams[param] = \"#212946\"  # bluish dark grey\n",
    "colors = [\n",
    "    \"#08F7FE\",  # teal/cyan\n",
    "    \"#FE53BB\",  # pink\n",
    "    \"#F5D300\",  # yellow\n",
    "    \"#00ff41\",  # matrix green\n",
    "]\n",
    "\n",
    "positions = [0, 0.5, 1]  # Cyan at 0, black at 0.5, magenta at 1\n",
    "cmap = LinearSegmentedColormap.from_list(\n",
    "    \"custom_cmap\", list(zip(positions, [\"#08F7FE\", \"#2A3459\", \"#FE53BB\"]))\n",
    ")\n",
    "\n",
    "\n",
    "def plot_residual_and_svd(result_dataset):\n",
    "    fig, axes = plt.subplots(1, 3, figsize=(10, 2))\n",
    "    plot_residual(result_dataset, axes[0])\n",
    "    axes[0].get_legend().remove()\n",
    "    axes[0].set_ylabel(\"Wavelength (nm)\")\n",
    "    plot_lsv_residual(result_dataset, axes[1], indices=[0], cycler=cycler(color=colors))\n",
    "    axes[1].get_legend().remove()\n",
    "    axes[1].set_ylabel(\"\")\n",
    "    axes[1].set_title(\"residual 1st LSV\")\n",
    "    plot_rsv_residual(result_dataset, axes[2], indices=[0], cycler=cycler(color=colors[1:]))\n",
    "    axes[2].set_xlabel(\"Wavelength (nm)\")\n",
    "    axes[2].set_title(\"residual 1st RSV\")\n",
    "    axes[2].get_legend().remove()\n",
    "    axes[2].set_ylabel(\"\")\n",
    "\n",
    "    return fig, axes\n",
    "\n",
    "\n",
    "fig, axes = plot_residual_and_svd(result.data[\"4TT\"])\n",
    "# axes[0].annotate(\"A\", xy=(-0.1, 1), xycoords=\"axes fraction\", fontsize=16)\n",
    "# axes[1].annotate(\"B\", xy=(-0.1, 1), xycoords=\"axes fraction\", fontsize=16)\n",
    "# axes[2].annotate(\"C\", xy=(-0.1, 1), xycoords=\"axes fraction\", fontsize=16)\n",
    "\n",
    "result.data[\"4TT\"].residual.plot(x=\"time\", ax=axes[0], cmap=cmap, add_colorbar=False)\n",
    "\n",
    "for ax in axes.flatten():\n",
    "    plt.setp(ax.get_xticklabels(), visible=False)\n",
    "    plt.setp(ax.get_yticklabels(), visible=False)\n",
    "    ax.tick_params(axis=\"both\", which=\"both\", length=0)\n",
    "\n",
    "for ax in axes[1:]:\n",
    "    # for column, color in zip(df, colors):\n",
    "    #     ax.fill_between(x=df.index,\n",
    "    #                     y1=df[column].values,\n",
    "    #                     y2=[0] * len(df),\n",
    "    #                     color=color,\n",
    "    #                     alpha=0.1)\n",
    "    ax.grid(color=\"#2A3459\")\n",
    "    # ax.set_xlim([ax.get_xlim()[0] - 0.2, ax.get_xlim()[1] + 0.2])  # to not have the markers cut off\n",
    "    # ax.set_ylim(0)"
   ]
  },
  {
   "cell_type": "code",
   "execution_count": null,
   "id": "479e40ed",
   "metadata": {},
   "outputs": [],
   "source": [
    "fig, ax = plt.subplots(1, 1, figsize=(5, 5))\n",
    "result.data[\"4TT\"].data.plot(x=\"time\", ax=ax, cmap=cmap, add_colorbar=False)\n",
    "\n",
    "plt.setp(ax.get_xticklabels(), visible=False)\n",
    "plt.setp(ax.get_yticklabels(), visible=False)\n",
    "ax.tick_params(axis=\"both\", which=\"both\", length=0)"
   ]
  },
  {
   "attachments": {},
   "cell_type": "markdown",
   "id": "792c78d1",
   "metadata": {
    "tags": []
   },
   "source": [
    "## Refinement by estimation of the laser intensity fluctuations responsible for the residual structure\n"
   ]
  },
  {
   "cell_type": "code",
   "execution_count": null,
   "id": "5c288167",
   "metadata": {
    "tags": []
   },
   "outputs": [],
   "source": [
    "import numpy as np\n",
    "import xarray as xr\n",
    "\n",
    "alfa = []\n",
    "for timepoint in result.data[\"4TT\"].time:\n",
    "    y = result.data[\"4TT\"].residual.sel(time=timepoint)\n",
    "    x = result.data[\"4TT\"].data.sel(time=timepoint)\n",
    "    alfa.append(np.dot(y, x) / np.dot(x, x))\n",
    "\n",
    "xr.DataArray(alfa).plot()"
   ]
  },
  {
   "cell_type": "code",
   "execution_count": null,
   "id": "c77da5db",
   "metadata": {
    "tags": []
   },
   "outputs": [],
   "source": [
    "alfa = []\n",
    "talfa = []\n",
    "for timepoint in result.data[\"4TT\"].time:\n",
    "    y = result.data[\"4TT\"].residual.sel(time=timepoint)\n",
    "    x = result.data[\"4TT\"].fitted_data.sel(time=timepoint)\n",
    "    xtx = np.dot(x, x)\n",
    "    xty = np.dot(x, y)\n",
    "    a = xty / xtx\n",
    "    res = y - a * x\n",
    "    df = len(y) - 1\n",
    "    var = np.dot(res, res) / df\n",
    "    ta = a / np.sqrt(var / xtx)\n",
    "    alfa.append(a)\n",
    "    talfa.append(ta)\n",
    "\n",
    "talfa_xr = xr.DataArray(talfa, coords={\"time\": result.data[\"4TT\"].time})\n",
    "alfa_xr = xr.DataArray(alfa, coords={\"time\": result.data[\"4TT\"].time})\n",
    "alfaraw_xr = alfa_xr\n",
    "alfa_xr[alfa_xr.time < -0.08] = 0\n",
    "alfa_xr.plot()\n",
    "talfa_xr.plot()"
   ]
  },
  {
   "cell_type": "code",
   "execution_count": null,
   "id": "9ee2208f",
   "metadata": {
    "tags": []
   },
   "outputs": [],
   "source": [
    "fig, ax = plt.subplots(1, 1)\n",
    "alfa_xr.plot()\n",
    "ax.set_xlabel(\"Time (ps)\")\n",
    "ax.set_ylabel(\"ΔI\")"
   ]
  },
  {
   "attachments": {},
   "cell_type": "markdown",
   "id": "91eb0048",
   "metadata": {
    "tags": []
   },
   "source": [
    "## Correcting the data for the laser intensity fluctuations\n"
   ]
  },
  {
   "cell_type": "code",
   "execution_count": null,
   "id": "42c75e2a",
   "metadata": {
    "tags": []
   },
   "outputs": [],
   "source": [
    "corr4TT = result.data[\"4TT\"].data / (1 + alfa_xr)\n",
    "corr4TT.plot(x=\"time\", y=\"spectral\")"
   ]
  },
  {
   "attachments": {},
   "cell_type": "markdown",
   "id": "1e902bfb",
   "metadata": {
    "tags": []
   },
   "source": [
    "## Target analysis of the corrected data\n"
   ]
  },
  {
   "cell_type": "code",
   "execution_count": null,
   "id": "9cbdbbfd",
   "metadata": {
    "tags": []
   },
   "outputs": [],
   "source": [
    "project.import_data(corr4TT, dataset_name=\"corr4TT\")\n",
    "plot_data_overview(project.data[\"corr4TT\"], linlog=True, linthresh=1)"
   ]
  },
  {
   "cell_type": "code",
   "execution_count": null,
   "id": "d133d06e",
   "metadata": {
    "tags": []
   },
   "outputs": [],
   "source": [
    "result_corr = project.optimize(\n",
    "    model_name=\"sequential6osc\",\n",
    "    parameters_name=\"optimized_parameters_seq4osc6\",\n",
    "    maximum_number_function_evaluations=7,\n",
    ")\n",
    "result_corr"
   ]
  },
  {
   "cell_type": "code",
   "execution_count": null,
   "id": "83175666",
   "metadata": {
    "tags": []
   },
   "outputs": [],
   "source": [
    "from pyglotaran_extras import plot_overview\n",
    "\n",
    "fig, axes = plot_overview(result_corr, linlog=True, linthresh=1, figure_only=False)\n",
    "\n",
    "# Add thin line at zero to SAS and DAS plots\n",
    "for ax in axes[0:2, 1:3].flatten():\n",
    "    ax.axhline(0, color=\"k\", linewidth=1)"
   ]
  },
  {
   "cell_type": "code",
   "execution_count": null,
   "id": "5705872a",
   "metadata": {
    "tags": []
   },
   "outputs": [],
   "source": [
    "wavelengths = [406, 445, 510, 601]\n",
    "fig3tr, axes = plot_fitted_traces(\n",
    "    result_corr,\n",
    "    wavelengths,\n",
    "    axes_shape=(2, 2),\n",
    "    linlog=True,\n",
    "    linthresh=0.3,\n",
    "    cycler=cycler(color=[\"r\", \"k\"]),  # change plot colors\n",
    "    figsize=(10, 5),\n",
    ")\n",
    "\n",
    "# Add thin line at zero to all plots\n",
    "for ax in axes.flatten():\n",
    "    ax.axhline(0, color=\"k\", linewidth=1)"
   ]
  },
  {
   "cell_type": "code",
   "execution_count": null,
   "id": "0ed9ef5b",
   "metadata": {
    "tags": []
   },
   "outputs": [],
   "source": [
    "result_corr.optimized_parameters"
   ]
  },
  {
   "attachments": {},
   "cell_type": "markdown",
   "id": "9a48ff8a",
   "metadata": {
    "tags": []
   },
   "source": [
    "Note that DOAS #3,4 have decay rates larger than 50, and most likely belong to the CA.\n",
    "#1,5 with decay rates of 26,16 are in between, and #2 and 6 with decay rates of 9.6 and 2.6 are the longer lived damped oscillations.\n"
   ]
  },
  {
   "cell_type": "code",
   "execution_count": null,
   "id": "7d71fc78",
   "metadata": {
    "tags": []
   },
   "outputs": [],
   "source": [
    "result_corr"
   ]
  },
  {
   "attachments": {},
   "cell_type": "markdown",
   "id": "6bac0cc3",
   "metadata": {
    "tags": []
   },
   "source": [
    "# Plot coherent artifact\n"
   ]
  },
  {
   "cell_type": "code",
   "execution_count": null,
   "id": "868a5b25",
   "metadata": {
    "tags": []
   },
   "outputs": [],
   "source": [
    "from pyglotaran_extras import plot_coherent_artifact\n",
    "\n",
    "irfas_plot_wavelength = 550\n",
    "\n",
    "fig, axes = plot_coherent_artifact(\n",
    "    result.data[\"4TT\"],\n",
    "    time_range=(-0.1, 0.1),\n",
    "    spectral=irfas_plot_wavelength,\n",
    "    cycler=cycler(color=colors),\n",
    "    figsize=(15, 3),\n",
    ")\n",
    "\n",
    "\n",
    "for ax in axes.flatten():\n",
    "    plt.setp(ax.get_xticklabels(), visible=False)\n",
    "    plt.setp(ax.get_yticklabels(), visible=False)\n",
    "    ax.tick_params(axis=\"both\", which=\"both\", length=0)\n",
    "    ax.grid(color=\"#2A3459\")"
   ]
  },
  {
   "attachments": {},
   "cell_type": "markdown",
   "id": "f553f928",
   "metadata": {
    "tags": []
   },
   "source": [
    "### Refining the kinetic model\n"
   ]
  },
  {
   "attachments": {},
   "cell_type": "markdown",
   "id": "a5762462",
   "metadata": {
    "tags": []
   },
   "source": [
    "Because the red SADS above still contains stimulated emission around 430 nm, a relaxed S2 is introduced, which is populated by 40% of the decaying S2,\n",
    "whereas 60% of S2 converts to S1. With some educated guesses, with the help of spectral constraints, and after some trial and error,\n",
    "reasonable starting values for the additional rate constants have been found. The thus estimated SADS can be interpreted.\n"
   ]
  },
  {
   "cell_type": "code",
   "execution_count": null,
   "id": "641801a6",
   "metadata": {
    "tags": []
   },
   "outputs": [],
   "source": [
    "result_corr_refined = project.optimize(\n",
    "    model_name=\"refined6osc\",\n",
    "    parameters_name=\"optimized_parameters_6osc_target\",\n",
    "    maximum_number_function_evaluations=1,\n",
    ")\n",
    "result_corr_refined"
   ]
  },
  {
   "cell_type": "code",
   "execution_count": null,
   "id": "9a072adc",
   "metadata": {
    "tags": []
   },
   "outputs": [],
   "source": [
    "result_corr_refined.data[\"corr4TT\"].lifetime_decay"
   ]
  },
  {
   "attachments": {},
   "cell_type": "markdown",
   "id": "9a0db0d8",
   "metadata": {},
   "source": [
    "## Populations and SADS estimated with the refined kinetic scheme"
   ]
  },
  {
   "cell_type": "code",
   "execution_count": null,
   "id": "3eb16f68",
   "metadata": {
    "tags": []
   },
   "outputs": [],
   "source": [
    "def plot_concentration_and_spectra(result_dataset):\n",
    "    # fig, axes = plt.subplots(1, 2, figsize=(18, 7))\n",
    "    fig, axes = plt.subplots(1, 2, figsize=(15, 4))\n",
    "    plot_concentrations(\n",
    "        result_dataset, axes[0], center_λ=0, linlog=True, cycler=cycler(color=colors)\n",
    "    )\n",
    "    plot_sas(result_dataset, axes[1], cycler=cycler(color=colors))\n",
    "    return fig, axes\n",
    "\n",
    "\n",
    "fig, axes = plot_concentration_and_spectra(result.data[\"4TT\"])\n",
    "axes[0].set_xlabel(\"Time (ps)\")\n",
    "axes[0].set_ylabel(\"\")\n",
    "axes[0].axhline(0, color=\"k\", linewidth=1)\n",
    "axes[1].set_xlabel(\"Wavelength (nm)\")\n",
    "axes[1].set_ylabel(\"SADS (mOD)\")\n",
    "axes[1].set_title(\"SADS\")\n",
    "axes[1].axhline(0, color=\"k\", linewidth=1)\n",
    "# axes[0].annotate(\"A\", xy=(-0.05, 1.02), xycoords=\"axes fraction\", fontsize=16)\n",
    "# axes[1].annotate(\"B\", xy=(-0.05, 1.02), xycoords=\"axes fraction\", fontsize=16)\n",
    "\n",
    "for ax in axes.flatten():\n",
    "    plt.setp(ax.get_xticklabels(), visible=False)\n",
    "    plt.setp(ax.get_yticklabels(), visible=False)\n",
    "    ax.tick_params(axis=\"both\", which=\"both\", length=0)\n",
    "    ax.grid(color=\"#2A3459\")"
   ]
  },
  {
   "cell_type": "code",
   "execution_count": null,
   "id": "15f4c3cb",
   "metadata": {},
   "outputs": [],
   "source": [
    "result_corr_refined.optimized_parameters"
   ]
  },
  {
   "attachments": {},
   "cell_type": "markdown",
   "id": "25346c5d",
   "metadata": {},
   "source": [
    "The damping rates 5 and 6 are 70.3/ps and -51.7/ps. These damped oscillations are attributable to the CA. "
   ]
  },
  {
   "cell_type": "markdown",
   "id": "2e311204",
   "metadata": {},
   "source": [
    "## Decomposition of the 4TT in PBS data\n"
   ]
  },
  {
   "cell_type": "code",
   "execution_count": null,
   "id": "f0d7064c",
   "metadata": {},
   "outputs": [],
   "source": [
    "matrix = result_corr_refined.data[\"corr4TT\"].matrix\n",
    "clp = result_corr_refined.data[\"corr4TT\"].clp\n",
    "\n",
    "\n",
    "ca_labels = []\n",
    "ca_doas_labels = []\n",
    "doas_labels = []\n",
    "non_doas_labels = []\n",
    "\n",
    "\n",
    "for clp_label in matrix.clp_label:\n",
    "    if clp_label.item().startswith(\"coherent_artifact_\"):\n",
    "        ca_labels.append(clp_label.item())\n",
    "    elif clp_label.item().startswith((\"osc5_\", \"osc6_\")):\n",
    "        ca_doas_labels.append(clp_label.item())\n",
    "    elif clp_label.item().endswith((\"_sin\", \"_cos\")):\n",
    "        doas_labels.append(clp_label.item())\n",
    "    else:\n",
    "        non_doas_labels.append(clp_label.item())\n",
    "\n",
    "print(f\"{doas_labels=}\")\n",
    "print(f\"{ca_labels=}\")\n",
    "print(f\"{ca_doas_labels=}\")\n",
    "print(f\"{non_doas_labels=}\")\n",
    "# matrix.clp_label"
   ]
  },
  {
   "cell_type": "code",
   "execution_count": null,
   "id": "3d81fa19",
   "metadata": {
    "tags": []
   },
   "outputs": [],
   "source": [
    "from pyglotaran_extras.plotting.utils import extract_irf_location\n",
    "from pyglotaran_extras.plotting.utils import shift_time_axis_by_irf_location\n",
    "\n",
    "data_dict = {\n",
    "    \"data\": result_corr_refined.data[\"corr4TT\"].data,\n",
    "    \"fitted_data\": result_corr_refined.data[\"corr4TT\"].fitted_data,\n",
    "    # \"sum\": (matrix * clp).sum(dim=\"clp_label\"),\n",
    "}\n",
    "\n",
    "for non_doas_label in non_doas_labels:\n",
    "    data_dict[non_doas_label] = (\n",
    "        matrix.sel(clp_label=non_doas_label) * clp.sel(clp_label=non_doas_label)\n",
    "    ).drop(\"clp_label\")\n",
    "\n",
    "data_dict[\"doas\"] = ((matrix.sel(clp_label=doas_labels) - 1) * clp.sel(clp_label=doas_labels)).sum(\n",
    "    dim=\"clp_label\"\n",
    ")\n",
    "\n",
    "data_dict[\"CA\"] = (matrix.sel(clp_label=ca_labels) * clp.sel(clp_label=ca_labels)).sum(\n",
    "    dim=\"clp_label\"\n",
    ") + ((matrix.sel(clp_label=ca_doas_labels) - 1) * clp.sel(clp_label=ca_doas_labels)).sum(\n",
    "    dim=\"clp_label\"\n",
    ")\n",
    "\n",
    "data = xr.Dataset(data_dict)\n",
    "\n",
    "plot_dim = (1, 1)\n",
    "myFRLcolors = [\n",
    "    \"tab:orange\",\n",
    "    \"tab:grey\",\n",
    "    \"k\",\n",
    "    \"r\",\n",
    "    \"b\",\n",
    "    \"g\",\n",
    "    \"m\",\n",
    "    \"c\",\n",
    "    \"y\",\n",
    "    \"tab:brown\",\n",
    "    \"tab:purple\",\n",
    "]\n",
    "custom_cycler = cycler(color=myFRLcolors)\n",
    "fig, ax = plt.subplots(*plot_dim, figsize=(8, 4))\n",
    "#\n",
    "wl = 510\n",
    "ax.set_prop_cycle(custom_cycler)\n",
    "for key in data.data_vars.keys():\n",
    "    # Shift by IRF\n",
    "    irf_location = extract_irf_location(result.data[\"4TT\"], wl)\n",
    "    shift_time_axis_by_irf_location(\n",
    "        data[key].sel(spectral=wl, method=\"nearest\"), irf_location=irf_location\n",
    "    ).plot(x=\"time\", ax=ax, label=key)\n",
    "    ax.set_xscale(\"symlog\", linthresh=0.3)\n",
    "\n",
    "\n",
    "# for ax, wl in zip(axes.flatten(), wls):\n",
    "#     for key in data.data_vars.keys():\n",
    "#         data[key].sel(spectral=wl, method=\"nearest\").plot(x=\"time\", ax=ax, label=key)\n",
    "\n",
    "ax.legend(bbox_to_anchor=(0.02, 0.95), loc=\"upper left\")\n",
    "ax.set_xlabel(\"Time (ps)\")\n",
    "ax.set_ylabel(\"ΔA(mOD)\")\n",
    "\n",
    "\n",
    "fig.tight_layout()"
   ]
  },
  {
   "attachments": {},
   "cell_type": "markdown",
   "id": "6f00aa5f",
   "metadata": {},
   "source": [
    "## Residual analysis of the corrected data"
   ]
  },
  {
   "cell_type": "code",
   "execution_count": null,
   "id": "6b6b7172",
   "metadata": {
    "tags": []
   },
   "outputs": [],
   "source": [
    "def plot_residual_and_svd(result_dataset):\n",
    "    fig, axes = plt.subplots(1, 3, figsize=(10, 2))\n",
    "    plot_residual(result_dataset, axes[0])\n",
    "    axes[0].get_legend().remove()\n",
    "    axes[0].set_ylabel(\"Wavelength (nm)\")\n",
    "    plot_lsv_residual(result_dataset, axes[1], indices=[0])\n",
    "    axes[1].get_legend().remove()\n",
    "    axes[1].set_ylabel(\"\")\n",
    "    axes[1].set_title(\"residual 1st LSV\")\n",
    "    plot_rsv_residual(result_dataset, axes[2], indices=[0])\n",
    "    axes[2].set_xlabel(\"Wavelength (nm)\")\n",
    "    axes[2].set_title(\"residual 1st RSV\")\n",
    "    axes[2].get_legend().remove()\n",
    "    axes[2].set_ylabel(\"\")\n",
    "\n",
    "    return fig, axes\n",
    "\n",
    "\n",
    "fig, axes = plot_residual_and_svd(result_corr_refined.data[\"corr4TT\"])\n",
    "axes[0].annotate(\"A\", xy=(-0.1, 1), xycoords=\"axes fraction\", fontsize=16)\n",
    "axes[1].annotate(\"B\", xy=(-0.1, 1), xycoords=\"axes fraction\", fontsize=16)\n",
    "axes[2].annotate(\"C\", xy=(-0.1, 1), xycoords=\"axes fraction\", fontsize=16)"
   ]
  },
  {
   "attachments": {},
   "cell_type": "markdown",
   "id": "635f1740",
   "metadata": {},
   "source": [
    "## Overview of the estimated DOAS and phases of the corrected data"
   ]
  },
  {
   "cell_type": "code",
   "execution_count": null,
   "id": "08f3abec",
   "metadata": {
    "tags": []
   },
   "outputs": [],
   "source": [
    "from pyglotaran_extras import plot_doas\n",
    "from pyglotaran_extras.plotting.style import ColorCode\n",
    "\n",
    "fig, axes = plot_doas(\n",
    "    result,\n",
    "    damped_oscillation=[\"osc1\", \"osc2\", \"osc3\", \"osc4\"],\n",
    "    time_range=(-0.1, 0.6),\n",
    "    spectral=550,\n",
    "    figsize=(15, 4),\n",
    "    normalize=False\n",
    "    # oscillation_type=\"sin\",\n",
    "    # center_λ=550,\n",
    "    ,\n",
    "    cycler=cycler(color=colors),\n",
    ")\n",
    "\n",
    "for vline_pos in [415, 460]:\n",
    "    axes[1].axvline(vline_pos, color=colors[1], linewidth=1)\n",
    "    axes[2].axvline(vline_pos, color=colors[1], linewidth=1)\n",
    "for vline_pos in [526]:\n",
    "    axes[1].axvline(vline_pos, color=colors[0], linewidth=1)\n",
    "    axes[2].axvline(vline_pos, color=colors[0], linewidth=1)\n",
    "for vline_pos in [393, 429, 479]:\n",
    "    axes[1].axvline(vline_pos, color=colors[2], linewidth=1)\n",
    "    axes[2].axvline(vline_pos, color=colors[2], linewidth=1)\n",
    "axes[0].set_xlabel(\"Time (ps)\")\n",
    "axes[0].axhline(0, color=\"k\", linewidth=1)\n",
    "axes[1].set_xlabel(\"Wavelength (nm)\")\n",
    "axes[2].set_xlabel(\"Wavelength (nm)\")\n",
    "axes[1].set_ylabel(\"\")\n",
    "axes[1].set_title(\"DOAS\")\n",
    "# axes[0].annotate(\"A\", xy=(0.01, 0.89), xycoords=\"axes fraction\", fontsize=16)\n",
    "# axes[1].annotate(\"B\", xy=(0.01, 0.89), xycoords=\"axes fraction\", fontsize=16)\n",
    "# axes[2].annotate(\"C\", xy=(0.01, 0.89), xycoords=\"axes fraction\", fontsize=16)\n",
    "\n",
    "for ax in axes.flatten():\n",
    "    plt.setp(ax.get_xticklabels(), visible=False)\n",
    "    plt.setp(ax.get_yticklabels(), visible=False)\n",
    "    ax.tick_params(axis=\"both\", which=\"both\", length=0)\n",
    "    ax.grid(color=\"#2A3459\")"
   ]
  }
 ],
 "metadata": {
  "kernelspec": {
   "display_name": "pyglotaran310",
   "language": "python",
   "name": "python3"
  },
  "language_info": {
   "codemirror_mode": {
    "name": "ipython",
    "version": 3
   },
   "file_extension": ".py",
   "mimetype": "text/x-python",
   "name": "python",
   "nbconvert_exporter": "python",
   "pygments_lexer": "ipython3"
  },
  "toc-showtags": false
 },
 "nbformat": 4,
 "nbformat_minor": 5
}
